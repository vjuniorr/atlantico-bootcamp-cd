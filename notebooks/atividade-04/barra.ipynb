{
 "cells": [
  {
   "cell_type": "markdown",
   "id": "e5733f43-6348-458b-9945-8418c8f46adc",
   "metadata": {
    "tags": []
   },
   "source": [
    "# Importação das bibliotecas"
   ]
  },
  {
   "cell_type": "code",
   "execution_count": 1,
   "id": "a3fa45c2-dd19-4040-9d26-1b35ddbd645d",
   "metadata": {},
   "outputs": [],
   "source": [
    "from matplotlib import pyplot as plt\n",
    "import seaborn as sns\n",
    "import pandas as pd"
   ]
  },
  {
   "cell_type": "markdown",
   "id": "bf95f006-f4d2-49c8-832d-ec01ef2bb5f8",
   "metadata": {},
   "source": [
    "## Importando e carregando os dados"
   ]
  },
  {
   "cell_type": "code",
   "execution_count": 2,
   "id": "f0bec8c9-2f32-44c5-b5b8-766857f7967e",
   "metadata": {},
   "outputs": [
    {
     "data": {
      "text/html": [
       "<div>\n",
       "<style scoped>\n",
       "    .dataframe tbody tr th:only-of-type {\n",
       "        vertical-align: middle;\n",
       "    }\n",
       "\n",
       "    .dataframe tbody tr th {\n",
       "        vertical-align: top;\n",
       "    }\n",
       "\n",
       "    .dataframe thead th {\n",
       "        text-align: right;\n",
       "    }\n",
       "</style>\n",
       "<table border=\"1\" class=\"dataframe\">\n",
       "  <thead>\n",
       "    <tr style=\"text-align: right;\">\n",
       "      <th></th>\n",
       "      <th>arrecadacao</th>\n",
       "      <th>titulo</th>\n",
       "    </tr>\n",
       "  </thead>\n",
       "  <tbody>\n",
       "    <tr>\n",
       "      <th>0</th>\n",
       "      <td>7316746</td>\n",
       "      <td>Ferdinand</td>\n",
       "    </tr>\n",
       "    <tr>\n",
       "      <th>1</th>\n",
       "      <td>36169328</td>\n",
       "      <td>Jumanji: Welcome to the Jungle</td>\n",
       "    </tr>\n",
       "    <tr>\n",
       "      <th>2</th>\n",
       "      <td>19928525</td>\n",
       "      <td>Pitch Perfect 3</td>\n",
       "    </tr>\n",
       "    <tr>\n",
       "      <th>3</th>\n",
       "      <td>71565498</td>\n",
       "      <td>Star Wars: The Last Jedi</td>\n",
       "    </tr>\n",
       "    <tr>\n",
       "      <th>4</th>\n",
       "      <td>8805843</td>\n",
       "      <td>The Greatest Showman</td>\n",
       "    </tr>\n",
       "  </tbody>\n",
       "</table>\n",
       "</div>"
      ],
      "text/plain": [
       "   arrecadacao                          titulo\n",
       "0      7316746                       Ferdinand\n",
       "1     36169328  Jumanji: Welcome to the Jungle\n",
       "2     19928525                 Pitch Perfect 3\n",
       "3     71565498        Star Wars: The Last Jedi\n",
       "4      8805843            The Greatest Showman"
      ]
     },
     "execution_count": 2,
     "metadata": {},
     "output_type": "execute_result"
    }
   ],
   "source": [
    "df = pd.read_csv('https://gist.githubusercontent.com/omadson/770934cb0df9e2d2c3e8db031f1139a5/raw/4d181efc035b327d9d66256915951384517c603e/arrecadacao.csv')\n",
    "df.head()"
   ]
  },
  {
   "cell_type": "markdown",
   "id": "74ab3149-95ed-4db0-8d6d-9420dddec495",
   "metadata": {},
   "source": [
    "## Plotando o grafico de barras"
   ]
  },
  {
   "cell_type": "code",
   "execution_count": 12,
   "id": "2587e518-d96d-4705-8b10-bebf2cbcd1a6",
   "metadata": {},
   "outputs": [
    {
     "data": {
      "image/png": "[encoded data removed]",
      "text/plain": [
       "<Figure size 360x144 with 1 Axes>"
      ]
     },
     "metadata": {},
     "output_type": "display_data"
    }
   ],
   "source": [
    "# Nova coluna com arrecadação por milhão de dolares\n",
    "df = df.assign(arrecadacao_milhao = df.arrecadacao / 1000000)\n",
    "\n",
    "# Ordenando as barras de acordo com a arrecadação\n",
    "df = df.sort_values(by='arrecadacao', ascending=False)\n",
    "\n",
    "# Setando as linhas verticais\n",
    "sns.set_style(\"whitegrid\")\n",
    "\n",
    "# Plotando o grafico com uma unica cor\n",
    "plt.figure(figsize=(5, 2))\n",
    "ax = sns.barplot(data=df, x='arrecadacao_milhao', y='titulo', color='darkcyan')\n",
    "\n",
    "# Adicionando os valores de cada filme nas barras\n",
    "ax.bar_label(\n",
    "    ax.containers[0],\n",
    "    fmt='%.1f',\n",
    "    label_type='center',\n",
    "    color='white'\n",
    ")\n",
    "\n",
    "# Adicionando labels ao grafico\n",
    "plt.xlabel(\"Arrecadação (Milhão de dolares)\")\n",
    "plt.ylabel(\"Filme\")\n",
    "plt.title(\"Arrecadação de filmes\")\n",
    "\n",
    "# Removendo as bordas e adicionando uma linha vertical na origem\n",
    "ax.set(frame_on=False)\n",
    "ax.axvline(0, color='k', clip_on=False)\n",
    "plt.show()"
   ]
  }
 ],
 "metadata": {
  "kernelspec": {
   "display_name": "Python 3 (ipykernel)",
   "language": "python",
   "name": "python3"
  },
  "language_info": {
   "codemirror_mode": {
    "name": "ipython",
    "version": 3
   },
   "file_extension": ".py",
   "mimetype": "text/x-python",
   "name": "python",
   "nbconvert_exporter": "python",
   "pygments_lexer": "ipython3",
   "version": "3.8.10"
  }
 },
 "nbformat": 4,
 "nbformat_minor": 5
}
